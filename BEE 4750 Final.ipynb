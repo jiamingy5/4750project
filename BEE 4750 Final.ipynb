{
 "cells": [
  {
   "cell_type": "markdown",
   "metadata": {},
   "source": [
    "### Researched Quantities\n",
    "\n",
    "- Building this model based on a 10-year rainstorm, which is 5.5 inches in 24 hours.\n",
    "-Here is the link to the sheet with the data about the plants https://1drv.ms/x/c/348b84fad346e9f1/EX-eKXt_eg1HnNybvuDh2aUBIBjV-u4fKmu33ILq_tpZVw?e=BLTTLG \n",
    "- Unit conversions:\n",
    "    - 1 square mile = 640 acres\n",
    "    - 1 square mile = 27,878,400 square feet\n",
    "    - 1 foot = 12 inches\n",
    "    - 1 gallon = 0.13368 cubic feet\n",
    "- According to HomeAdvisor, it costs between $50 to $250 per linear foot to insall a sewer line. I feel like since it's NYC it'll be more expensive but it's so much that they can probably get pretty good pricing so I'm just going to guess $150 per linear foot.\n",
    "    https://www.homeadvisor.com/cost/plumbing/install-a-sewer-main/\n",
    "- according to NYC waterboards, the sewer rate $7.14 / ft^3 = $954479.17 $/ MG in 2024: https://www.nyc.gov/site/nycwaterboard/rates/rates-regulations.page"
   ]
  },
  {
   "cell_type": "code",
   "execution_count": 16,
   "metadata": {},
   "outputs": [
    {
     "name": "stderr",
     "output_type": "stream",
     "text": [
      "\u001b[32m\u001b[1m  Activating\u001b[22m\u001b[39m project at `c:\\Users\\arisc\\OneDrive\\Desktop\\BEE 4750\\4750project`\n"
     ]
    }
   ],
   "source": [
    "import Pkg\n",
    "Pkg.activate(@__DIR__)\n",
    "Pkg.instantiate()\n",
    "\n",
    "using JuMP\n",
    "using HiGHS\n",
    "using DataFrames\n",
    "using GraphRecipes\n",
    "using Plots\n",
    "using Measures\n",
    "using MarkdownTables"
   ]
  },
  {
   "cell_type": "code",
   "execution_count": 17,
   "metadata": {},
   "outputs": [
    {
     "data": {
      "text/plain": [
       "10000000000"
      ]
     },
     "metadata": {},
     "output_type": "display_data"
    }
   ],
   "source": [
    "#deriving objective function\n",
    "facilities = [\"26th Ward\", \"Bowery Bay\", \"Coney Island\", \"Hunts Point\", \"Jamaica\", \"Newtown Creek\", \"North River\", \"Oakwood Beach\", \"Rockaway\", \"Owls Head\", \"Wards Island\", \"Tallman Island\", \"Port Richmond\", \"Red Hook\"]\n",
    "design_capacity = [85, 150, 110, 200, 100, 310, 170, 39.9, 45, 120, 275, 80, 60, 60] #MGD\n",
    "population_served = [283428, 848328, 596326, 684569, 728123, 1068012, 588772, 244918, 90474, 758007, 1061558, 410812, 198128, 192050] #\n",
    "sanitary_demand = 80*(10^-6)*population_served #MGD = (gal/(day * person)) * people * 10^-6 MGD/(gal/d)\n",
    "\n",
    "\n",
    "cost_per_mile = 150*5280 #$/ft * ft/mile\n",
    "distance = [10.25, 9.55, 10, 11, 13, 5.7, 9.7, 11.25, 14.25, 4.45, 8.75, 12.6, 6.15, 3.7] #miles\n",
    "W_coef = distance*cost_per_mile\n",
    "\n",
    "storm_height = 5.5/12 #feet\n",
    "drainage_area = [5907, 15203, 15087, 16664, 25313, 15656, 6030, 10779, 6259, 12947, 12056, 16860, 9665, 3200] #acres = (miles^2)/640\n",
    "storm_vol = (storm_height * drainage_area)/3.06888 #MGD = ((in/day)*acre)/(3.06888 acre foot / Mgal)\n",
    "treatment_cost = 954479.17 #dollars / MGD\n",
    "\n",
    "CSO_cost = 10^10 #dollars (aka 10 billion dollars)\n"
   ]
  },
  {
   "cell_type": "code",
   "execution_count": 38,
   "metadata": {},
   "outputs": [
    {
     "data": {
      "text/latex": [
       "$$ O_{14} --> {0 \\leq -433.2799389310323} $$"
      ],
      "text/plain": [
       "overflow14 : O[14] --> {0 <= -433.2799389310323}"
      ]
     },
     "metadata": {},
     "output_type": "display_data"
    }
   ],
   "source": [
    "#Setting Up Optimization\n",
    "stormwater_model = Model(HiGHS.Optimizer) #initialize model object\n",
    "\n",
    "#create variables: amount of wastewater diverted to new plant\n",
    "@variable(stormwater_model, W[1:14], Bin) #will this plant overflow in a 10-year storm? - boolean\n",
    "@variable(stormwater_model, Q[1:14] >= 0) #how much water will go to the new plant\n",
    "@variable(stormwater_model, O[1:14], Bin) #will we get an overflow in a 10-year storm\n",
    "\n",
    "#create objective function\n",
    "@objective(stormwater_model, Min, sum(W_coef .* W) + sum(treatment_cost .* Q) + sum(CSO_cost .* O))\n",
    "\n",
    "#constraints\n",
    "#cso_name = [\"CSO1\", \"CSO2\", \"CSO3\", \"CSO4\", \"CSO5\", \"CSO6\", \"CSO7\", \"CSO8\", \"CSO9\", \"CSO10\", \"CSO11\", \"CSO12\", \"CSO13\", \"CSO14\"]\n",
    "@constraint(stormwater_model, overflow1, O[1] => {storm_vol[1] .+ sanitary_demand[1] <= design_capacity[1]})\n",
    "@constraint(stormwater_model, overflow2, O[2] => {storm_vol[2] .+ sanitary_demand[2] <= design_capacity[2]})\n",
    "@constraint(stormwater_model, overflow3, O[3] => {storm_vol[3] .+ sanitary_demand[3] <= design_capacity[3]})\n",
    "@constraint(stormwater_model, overflow4, O[4] => {storm_vol[4] .+ sanitary_demand[4] <= design_capacity[4]})\n",
    "@constraint(stormwater_model, overflow5, O[5] => {storm_vol[5] .+ sanitary_demand[5] <= design_capacity[5]})\n",
    "@constraint(stormwater_model, overflow6, O[6] => {storm_vol[6] .+ sanitary_demand[6] <= design_capacity[6]})\n",
    "@constraint(stormwater_model, overflow7, O[7] => {storm_vol[7] .+ sanitary_demand[7] <= design_capacity[7]})\n",
    "@constraint(stormwater_model, overflow8, O[8] => {storm_vol[8] .+ sanitary_demand[8] <= design_capacity[8]})\n",
    "@constraint(stormwater_model, overflow9, O[9] => {storm_vol[9] .+ sanitary_demand[9] <= design_capacity[9]})\n",
    "@constraint(stormwater_model, overflow10, O[10] => {storm_vol[10] .+ sanitary_demand[10] <= design_capacity[10]})\n",
    "@constraint(stormwater_model, overflow11, O[11] => {storm_vol[11] .+ sanitary_demand[11] <= design_capacity[11]})\n",
    "@constraint(stormwater_model, overflow12, O[12] => {storm_vol[12] .+ sanitary_demand[12] <= design_capacity[12]})\n",
    "@constraint(stormwater_model, overflow13, O[13] => {storm_vol[13] .+ sanitary_demand[13] <= design_capacity[13]})\n",
    "@constraint(stormwater_model, overflow14, O[14] => {storm_vol[14] .+ sanitary_demand[14] <= design_capacity[14]})\n",
    "\n",
    "#for i in 1:14\n",
    "#    @constraint(stormwater_model, O[i] => {storm_vol[i] .+ sanitary_demand[i] <= design_capacity[i]})\n",
    "#end"
   ]
  },
  {
   "cell_type": "code",
   "execution_count": 39,
   "metadata": {},
   "outputs": [
    {
     "name": "stdout",
     "output_type": "stream",
     "text": [
      "Running HiGHS 1.8.1 (git hash: 4a7f24ac6): Copyright (c) 2024 HiGHS under MIT licence terms\n",
      "Coefficient ranges:\n",
      "  Matrix [1e+00, 4e+03]\n",
      "  Cost   [1e+06, 1e+10]\n",
      "  Bound  [1e+00, 1e+00]\n",
      "  RHS    [4e+02, 4e+03]\n",
      "Presolving model\n",
      "0 rows, 0 cols, 0 nonzeros  0s\n",
      "0 rows, 0 cols, 0 nonzeros  0s\n",
      "Presolve: Optimal\n",
      "\n",
      "Src: B => Branching; C => Central rounding; F => Feasibility pump; H => Heuristic; L => Sub-MIP;\n",
      "     P => Empty MIP; R => Randomized rounding; S => Solve LP; T => Evaluate node; U => Unbounded;\n",
      "     z => Trivial zero; l => Trivial lower; u => Trivial upper; p => Trivial point\n",
      "\n",
      "        Nodes      |    B&B Tree     |            Objective Bounds              |  Dynamic Constraints |       Work      \n",
      "Src  Proc. InQueue |  Leaves   Expl. | BestBound       BestSol              Gap |   Cuts   InLp Confl. | LpIters     Time\n",
      "\n",
      "         0       0         0   0.00%   0               0                  0.00%        0      0      0         0     0.0s\n",
      "\n",
      "Solving report\n",
      "  Status            Optimal\n",
      "  Primal bound      0\n",
      "  Dual bound        0\n",
      "  Gap               0% (tolerance: 0.01%)\n",
      "  P-D integral      0\n",
      "  Solution status   feasible\n",
      "                    0 (objective)\n",
      "                    0 (bound viol.)\n",
      "                    0 (int. viol.)\n",
      "                    0 (row viol.)\n",
      "  Timing            0.00 (total)\n",
      "                    0.00 (presolve)\n",
      "                    0.00 (solve)\n",
      "                    0.00 (postsolve)\n",
      "  Max sub-MIP depth 0\n",
      "  Nodes             0\n",
      "  Repair LPs        0 (0 feasible; 0 iterations)\n",
      "  LP iterations     0 (total)\n",
      "                    0 (strong br.)\n",
      "                    0 (separation)\n",
      "                    0 (heuristics)\n",
      "value.(W) = [0.0, 0.0, 0.0, 0.0, 0.0, 0.0, 0.0, 0.0, 0.0, 0.0, 0.0, 0.0, 0.0, 0.0]\n"
     ]
    },
    {
     "ename": "ArgumentError",
     "evalue": "ArgumentError: Bridge of type `IndicatorToMILPBridge` does not support accessing the attribute `MathOptInterface.ConstraintPrimal(1)`. If you encountered this error unexpectedly, it probably means your model has been reformulated using the bridge, and you are attempting to query an attribute that we haven't implemented yet for this bridge. Please open an issue at https://github.com/jump-dev/MathOptInterface.jl/issues/new and provide a reproducible example explaining what you were trying to do.",
     "output_type": "error",
     "traceback": [
      "ArgumentError: Bridge of type `IndicatorToMILPBridge` does not support accessing the attribute `MathOptInterface.ConstraintPrimal(1)`. If you encountered this error unexpectedly, it probably means your model has been reformulated using the bridge, and you are attempting to query an attribute that we haven't implemented yet for this bridge. Please open an issue at https://github.com/jump-dev/MathOptInterface.jl/issues/new and provide a reproducible example explaining what you were trying to do.\n",
      "\n",
      "Stacktrace:\n",
      "  [1] get(::MathOptInterface.Bridges.LazyBridgeOptimizer{HiGHS.Optimizer}, attr::MathOptInterface.ConstraintPrimal, bridge::MathOptInterface.Bridges.Constraint.IndicatorToMILPBridge{Float64, MathOptInterface.VectorAffineFunction{Float64}, MathOptInterface.ACTIVATE_ON_ONE, MathOptInterface.LessThan{Float64}})\n",
      "    @ MathOptInterface.Bridges C:\\Users\\arisc\\.julia\\packages\\MathOptInterface\\gLl4d\\src\\Bridges\\bridge.jl:149\n",
      "  [2] (::MathOptInterface.Bridges.var\"#3#4\"{typeof(MathOptInterface.get), MathOptInterface.Bridges.LazyBridgeOptimizer{HiGHS.Optimizer}, MathOptInterface.ConstraintPrimal, Tuple{}})(bridge::MathOptInterface.Bridges.Constraint.IndicatorToMILPBridge{Float64, MathOptInterface.VectorAffineFunction{Float64}, MathOptInterface.ACTIVATE_ON_ONE, MathOptInterface.LessThan{Float64}})\n",
      "    @ MathOptInterface.Bridges C:\\Users\\arisc\\.julia\\packages\\MathOptInterface\\gLl4d\\src\\Bridges\\bridge_optimizer.jl:324\n",
      "  [3] (::MathOptInterface.Bridges.var\"#1#2\"{MathOptInterface.Bridges.LazyBridgeOptimizer{HiGHS.Optimizer}, MathOptInterface.ConstraintIndex{MathOptInterface.VectorAffineFunction{Float64}, MathOptInterface.Indicator{MathOptInterface.ACTIVATE_ON_ONE, MathOptInterface.LessThan{Float64}}}, MathOptInterface.Bridges.var\"#3#4\"{typeof(MathOptInterface.get), MathOptInterface.Bridges.LazyBridgeOptimizer{HiGHS.Optimizer}, MathOptInterface.ConstraintPrimal, Tuple{}}})()\n",
      "    @ MathOptInterface.Bridges C:\\Users\\arisc\\.julia\\packages\\MathOptInterface\\gLl4d\\src\\Bridges\\bridge_optimizer.jl:309\n",
      "  [4] call_in_context(map::MathOptInterface.Bridges.Variable.Map, bridge_index::Int64, f::MathOptInterface.Bridges.var\"#1#2\"{MathOptInterface.Bridges.LazyBridgeOptimizer{HiGHS.Optimizer}, MathOptInterface.ConstraintIndex{MathOptInterface.VectorAffineFunction{Float64}, MathOptInterface.Indicator{MathOptInterface.ACTIVATE_ON_ONE, MathOptInterface.LessThan{Float64}}}, MathOptInterface.Bridges.var\"#3#4\"{typeof(MathOptInterface.get), MathOptInterface.Bridges.LazyBridgeOptimizer{HiGHS.Optimizer}, MathOptInterface.ConstraintPrimal, Tuple{}}})\n",
      "    @ MathOptInterface.Bridges.Variable C:\\Users\\arisc\\.julia\\packages\\MathOptInterface\\gLl4d\\src\\Bridges\\Variable\\map.jl:620\n",
      "  [5] call_in_context\n",
      "    @ C:\\Users\\arisc\\.julia\\packages\\MathOptInterface\\gLl4d\\src\\Bridges\\Variable\\map.jl:651 [inlined]\n",
      "  [6] call_in_context\n",
      "    @ C:\\Users\\arisc\\.julia\\packages\\MathOptInterface\\gLl4d\\src\\Bridges\\bridge_optimizer.jl:306 [inlined]\n",
      "  [7] call_in_context\n",
      "    @ C:\\Users\\arisc\\.julia\\packages\\MathOptInterface\\gLl4d\\src\\Bridges\\bridge_optimizer.jl:321 [inlined]\n",
      "  [8] get(b::MathOptInterface.Bridges.LazyBridgeOptimizer{HiGHS.Optimizer}, attr::MathOptInterface.ConstraintPrimal, ci::MathOptInterface.ConstraintIndex{MathOptInterface.VectorAffineFunction{Float64}, MathOptInterface.Indicator{MathOptInterface.ACTIVATE_ON_ONE, MathOptInterface.LessThan{Float64}}})\n",
      "    @ MathOptInterface.Bridges C:\\Users\\arisc\\.julia\\packages\\MathOptInterface\\gLl4d\\src\\Bridges\\bridge_optimizer.jl:1497\n",
      "  [9] _get_fallback(model::MathOptInterface.Utilities.CachingOptimizer{MathOptInterface.Bridges.LazyBridgeOptimizer{HiGHS.Optimizer}, MathOptInterface.Utilities.UniversalFallback{MathOptInterface.Utilities.Model{Float64}}}, attr::MathOptInterface.ConstraintPrimal, index::MathOptInterface.ConstraintIndex{MathOptInterface.VectorAffineFunction{Float64}, MathOptInterface.Indicator{MathOptInterface.ACTIVATE_ON_ONE, MathOptInterface.LessThan{Float64}}})\n",
      "    @ MathOptInterface.Utilities C:\\Users\\arisc\\.julia\\packages\\MathOptInterface\\gLl4d\\src\\Utilities\\cachingoptimizer.jl:990\n",
      " [10] get(model::MathOptInterface.Utilities.CachingOptimizer{MathOptInterface.Bridges.LazyBridgeOptimizer{HiGHS.Optimizer}, MathOptInterface.Utilities.UniversalFallback{MathOptInterface.Utilities.Model{Float64}}}, attr::MathOptInterface.ConstraintPrimal, index::MathOptInterface.ConstraintIndex{MathOptInterface.VectorAffineFunction{Float64}, MathOptInterface.Indicator{MathOptInterface.ACTIVATE_ON_ONE, MathOptInterface.LessThan{Float64}}})\n",
      "    @ MathOptInterface.Utilities C:\\Users\\arisc\\.julia\\packages\\MathOptInterface\\gLl4d\\src\\Utilities\\cachingoptimizer.jl:935\n",
      " [11] _moi_get_result(::MathOptInterface.Utilities.CachingOptimizer{MathOptInterface.Bridges.LazyBridgeOptimizer{HiGHS.Optimizer}, MathOptInterface.Utilities.UniversalFallback{MathOptInterface.Utilities.Model{Float64}}}, ::MathOptInterface.ConstraintPrimal, ::Vararg{Any})\n",
      "    @ JuMP C:\\Users\\arisc\\.julia\\packages\\JuMP\\i68GU\\src\\optimizer_interface.jl:1053\n",
      " [12] get(model::Model, attr::MathOptInterface.ConstraintPrimal, cr::ConstraintRef{Model, MathOptInterface.ConstraintIndex{MathOptInterface.VectorAffineFunction{Float64}, MathOptInterface.Indicator{MathOptInterface.ACTIVATE_ON_ONE, MathOptInterface.LessThan{Float64}}}, VectorShape})\n",
      "    @ JuMP C:\\Users\\arisc\\.julia\\packages\\JuMP\\i68GU\\src\\optimizer_interface.jl:1113\n",
      " [13] _constraint_primal(con_ref::ConstraintRef{Model, MathOptInterface.ConstraintIndex{MathOptInterface.VectorAffineFunction{Float64}, MathOptInterface.Indicator{MathOptInterface.ACTIVATE_ON_ONE, MathOptInterface.LessThan{Float64}}}, VectorShape}, result::Int64)\n",
      "    @ JuMP C:\\Users\\arisc\\.julia\\packages\\JuMP\\i68GU\\src\\constraints.jl:1322\n",
      " [14] #value#22\n",
      "    @ C:\\Users\\arisc\\.julia\\packages\\JuMP\\i68GU\\src\\constraints.jl:1300 [inlined]\n",
      " [15] value\n",
      "    @ C:\\Users\\arisc\\.julia\\packages\\JuMP\\i68GU\\src\\constraints.jl:1296 [inlined]\n",
      " [16] _broadcast_getindex_evalf\n",
      "    @ .\\broadcast.jl:709 [inlined]\n",
      " [17] _broadcast_getindex\n",
      "    @ .\\broadcast.jl:682 [inlined]\n",
      " [18] getindex\n",
      "    @ .\\broadcast.jl:636 [inlined]\n",
      " [19] copy\n",
      "    @ .\\broadcast.jl:918 [inlined]\n",
      " [20] materialize(bc::Base.Broadcast.Broadcasted{Base.Broadcast.DefaultArrayStyle{0}, Nothing, typeof(value), Tuple{Base.RefValue{ConstraintRef{Model, MathOptInterface.ConstraintIndex{MathOptInterface.VectorAffineFunction{Float64}, MathOptInterface.Indicator{MathOptInterface.ACTIVATE_ON_ONE, MathOptInterface.LessThan{Float64}}}, VectorShape}}}})\n",
      "    @ Base.Broadcast .\\broadcast.jl:903\n",
      " [21] macro expansion\n",
      "    @ show.jl:1181 [inlined]\n",
      " [22] top-level scope\n",
      "    @ c:\\Users\\arisc\\OneDrive\\Desktop\\BEE 4750\\4750project\\jl_notebook_cell_df34fa98e69747e1a8f8a730347b8e2f_X13sZmlsZQ==.jl:4"
     ]
    }
   ],
   "source": [
    "#optimize\n",
    "optimize!(stormwater_model)\n",
    "@show value.(W)\n",
    "@show value.(overflow1)\n",
    "@show value.(overflow2)\n",
    "@show value.(overflow3)\n",
    "@show value.(overflow4)\n",
    "@show value.(overflow5)\n",
    "@show value.(overflow6)\n",
    "@show value.(overflow7)\n",
    "@show value.(overflow8)\n",
    "@show value.(overflow9)\n",
    "@show value.(overflow10)\n",
    "@show value.(overflow11)\n",
    "@show value.(overflow12)\n",
    "@show value.(overflow13)\n",
    "@show value.(overflow14)"
   ]
  }
 ],
 "metadata": {
  "kernelspec": {
   "display_name": "Julia 1.10.4",
   "language": "julia",
   "name": "julia-1.10"
  },
  "language_info": {
   "file_extension": ".jl",
   "mimetype": "application/julia",
   "name": "julia",
   "version": "1.10.4"
  }
 },
 "nbformat": 4,
 "nbformat_minor": 2
}
