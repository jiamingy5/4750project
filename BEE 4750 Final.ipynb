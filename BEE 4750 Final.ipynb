{
 "cells": [
  {
   "cell_type": "markdown",
   "metadata": {},
   "source": [
    "### Researched Quantities\n",
    "\n",
    "- Building this model based on a 10-year rainstorm, which is 5.5 inches in 24 hours.\n",
    "-Here is the link to the sheet with the data about the plants https://1drv.ms/x/c/348b84fad346e9f1/EX-eKXt_eg1HnNybvuDh2aUBIBjV-u4fKmu33ILq_tpZVw?e=BLTTLG \n",
    "- Unit conversions:\n",
    "    - 1 square mile = 640 acres\n",
    "    - 1 square mile = 27,878,400 square feet\n",
    "    - 1 foot = 12 inches\n",
    "    - 1 gallon = 0.13368 cubic feet\n",
    "- According to HomeAdvisor, it costs between $50 to $250 per linear foot to insall a sewer line. I feel like since it's NYC it'll be more expensive but it's so much that they can probably get pretty good pricing so I'm just going to guess $150 per linear foot.\n",
    "    https://www.homeadvisor.com/cost/plumbing/install-a-sewer-main/\n",
    "- according to NYC waterboards, the sewer rate $7.14 / ft^3 = $954479.17 $/ MG in 2024: https://www.nyc.gov/site/nycwaterboard/rates/rates-regulations.page"
   ]
  },
  {
   "cell_type": "code",
   "execution_count": 2,
   "metadata": {},
   "outputs": [
    {
     "name": "stderr",
     "output_type": "stream",
     "text": [
      "\u001b[32m\u001b[1m  Activating\u001b[22m\u001b[39m project at `c:\\Users\\arisc\\OneDrive\\Desktop\\BEE 4750\\4750project`\n"
     ]
    }
   ],
   "source": [
    "import Pkg\n",
    "Pkg.activate(@__DIR__)\n",
    "Pkg.instantiate()\n",
    "\n",
    "using JuMP\n",
    "using HiGHS\n",
    "using DataFrames\n",
    "using GraphRecipes\n",
    "using Plots\n",
    "using Measures\n",
    "using MarkdownTables"
   ]
  },
  {
   "cell_type": "code",
   "execution_count": null,
   "metadata": {},
   "outputs": [
    {
     "data": {
      "text/plain": [
       "954479.17"
      ]
     },
     "metadata": {},
     "output_type": "display_data"
    }
   ],
   "source": [
    "#deriving objective function\n",
    "facilities = [\"26th Ward\", \"Bowery Bay\", \"Coney Island\", \"Hunts Point\", \"Jamaica\", \"Newtown Creek\", \"North River\", \"Oakwood Beach\", \"Rockaway\", \"Owls Head\", \"Wards Island\", \"Tallman Island\", \"Port Richmond\", \"Red Hook\"]\n",
    "design_capacity = [85, 150, 110, 200, 100, 310, 170, 39.9, 45, 120, 275, 80, 60, 60] #MGD\n",
    "population_served = [283428, 848328, 596326, 684569, 728123, 1068012, 588772, 244918, 90474, 758007, 1061558, 410812, 198128, 192050] #\n",
    "sanitary_demand = 80*(10^-6)*population_served #MGD = (gal/(day * person)) * people * 10^-6 MGD/(gal/d)\n",
    "\n",
    "\n",
    "cost_per_mile = 150*5280 #$/ft * ft/mile\n",
    "distance = [10.25, 9.55, 10, 11, 13, 5.7, 9.7, 11.25, 14.25, 4.45, 8.75, 12.6, 6.15, 3.7] #miles\n",
    "W_coef = distance*cost_per_mile\n",
    "\n",
    "storm_height = 5.5/12 #feet\n",
    "drainage_area = [5907, 15203, 15087, 16664, 25313, 15656, 6030, 10779, 6259, 12947, 12056, 16860, 9665, 3200] #acres = (miles^2)/640\n",
    "storm_vol = (storm_height * drainage_area)/3.06888 #MGD = ((in/day)*acre)/(3.06888 acre foot / Mgal)\n",
    "treatment_cost = 954479.17 #dollars / MGD\n",
    "\n",
    "CSO_cost = 10^10 #dollars (aka 10 billion dollars)\n"
   ]
  },
  {
   "cell_type": "code",
   "execution_count": null,
   "metadata": {},
   "outputs": [],
   "source": [
    "#Setting Up Optimization\n",
    "stormwater_model = Model(HiGHS.Optimizer) #initialize model object\n",
    "\n",
    "#create variables: amount of wastewater diverted to new plant\n",
    "@variable(stormwater_model, W[1:14], Bin) #will this plant overflow in a 10-year storm? - boolean\n",
    "@variable(stormwater_model, Q[1:14] >= 0) #how much water will go to the new plant\n",
    "@variable(stormwater_model, O[1:14], Bin) #will we get an overflow in a 10-year storm\n",
    "\n",
    "#create objective function\n",
    "@objective(stormwater_model, Min, W_coef[1]*W[1] + W_coef[2]*W[2] + W_coef[3]*W[3] + W_coef[4]*W[4] + W_coef[5]*W[5] + W_coef[6]*W[6] + W_coef[7]*W[7] + W_coef[8]*W[8] + W_coef[9]*W[9] + W_coef[10]*W[10] + W_coef[11]*W[11] + W_coef[12]*W[12] + W_coef[13]*W[13] + W_coef[14]*W[14] + treatment_cost*Q + CSO_cost*O)\n",
    "\n",
    "#constraints"
   ]
  },
  {
   "cell_type": "code",
   "execution_count": null,
   "metadata": {},
   "outputs": [],
   "source": [
    "#optimize\n",
    "optimize!(stormwater_model)\n",
    "@show value.(W)"
   ]
  }
 ],
 "metadata": {
  "kernelspec": {
   "display_name": "Julia 1.10.4",
   "language": "julia",
   "name": "julia-1.10"
  },
  "language_info": {
   "file_extension": ".jl",
   "mimetype": "application/julia",
   "name": "julia",
   "version": "1.10.4"
  }
 },
 "nbformat": 4,
 "nbformat_minor": 2
}
