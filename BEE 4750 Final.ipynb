{
 "cells": [
  {
   "cell_type": "markdown",
   "metadata": {},
   "source": [
    "### Researched Quantities\n",
    "\n",
    "- Building this model based on a 10-year rainstorm, which is 5.5 inches in 24 hours.\n",
    "-Here is the link to the sheet with the data about the plants https://1drv.ms/x/c/348b84fad346e9f1/EX-eKXt_eg1HnNybvuDh2aUBIBjV-u4fKmu33ILq_tpZVw?e=BLTTLG \n",
    "- Unit conversions:\n",
    "    - 1 square mile = 640 acres\n",
    "    - 1 square mile = 27,878,400 square feet\n",
    "    - 1 foot = 12 inches\n",
    "    - 1 gallon = 0.13368 cubic feet\n",
    "- According to HomeAdvisor, it costs between $50 to $250 per linear foot to insall a sewer line. I feel like since it's NYC it'll be more expensive but it's so much that they can probably get pretty good pricing so I'm just going to guess $150 per linear foot.\n",
    "    https://www.homeadvisor.com/cost/plumbing/install-a-sewer-main/\n",
    "- according to NYC waterboards, the sewer rate $7.14 / ft^3 = $954479.17 $/ MG in 2024: https://www.nyc.gov/site/nycwaterboard/rates/rates-regulations.page"
   ]
  },
  {
   "cell_type": "code",
   "execution_count": 1,
   "metadata": {},
   "outputs": [
    {
     "name": "stderr",
     "output_type": "stream",
     "text": [
      "\u001b[32m\u001b[1m  Activating\u001b[22m\u001b[39m project at `c:\\Users\\grcra\\OneDrive\\Desktop\\FA24\\BEE4750\\4750project`\n",
      "\u001b[32m\u001b[1m    Updating\u001b[22m\u001b[39m registry at `C:\\Users\\grcra\\.julia\\registries\\General.toml`\n",
      "\u001b[32m\u001b[1m   Resolving\u001b[22m\u001b[39m package versions...\n",
      "\u001b[32m\u001b[1m  No Changes\u001b[22m\u001b[39m to `C:\\Users\\grcra\\OneDrive\\Desktop\\FA24\\BEE4750\\4750project\\Project.toml`\n",
      "\u001b[32m\u001b[1m  No Changes\u001b[22m\u001b[39m to `C:\\Users\\grcra\\OneDrive\\Desktop\\FA24\\BEE4750\\4750project\\Manifest.toml`\n"
     ]
    }
   ],
   "source": [
    "import Pkg\n",
    "Pkg.activate(@__DIR__)\n",
    "Pkg.instantiate()\n",
    "\n",
    "using JuMP\n",
    "using HiGHS\n",
    "using DataFrames\n",
    "using GraphRecipes\n",
    "using Plots\n",
    "using Measures\n",
    "using MarkdownTables\n",
    "Pkg.add(\"XLSX\")"
   ]
  },
  {
   "cell_type": "code",
   "execution_count": 492,
   "metadata": {},
   "outputs": [],
   "source": [
    "#deriving objective function\n",
    "import XLSX\n",
    "data = XLSX.readxlsx(\"WWTP_data.xlsx\")\n",
    "\n",
    "facilities = data[\"Sheet1!A2:A15\"]\n",
    "design_capacity = data[\"Sheet1!B2:B15\"]\n",
    "population_served = data[\"Sheet1!C2:C15\"] #BASE CONDITION\n",
    "sanitary_demand = 80*(10^-6)*population_served #MGD = (gal/(day* person)) * people * 10^-6 MGD/(gal/d)\n",
    "\n",
    "cost_per_mile = 150*5280 #$/ft * ft/mile\n",
    "distance = data[\"Sheet1!E2:E15\"] #BASE CONDITION\n",
    "W_coef = distance*cost_per_mile\n",
    "\n",
    "#rainfall amoutns to input into model:\n",
    "\n",
    "# storm_height = 5.5/12 #feet / day for 10 year storm\n",
    "# storm_height = .85/12 #feet / day for ALL ABOVE capacity\n",
    "# storm_height = 0.06/12 #feet / day example for ALL BELOW capacity \n",
    "storm_height = 0.3/12 #feet / day for most but not all over #BASE CONDITION\n",
    "\n",
    "drainage_area = data[\"Sheet1!D2:D15\"] #acres = (miles^2)/640\n",
    "storm_vol = (storm_height * drainage_area)/3.06888 #MGD = ((in/day)*acre)/(3.06888 acre foot / Mgal)\n",
    "treatment_cost = 954_479.17 #dollars / MGD \n",
    "CSO_cost = 1_500_000; #dollars/Mgal #BASE CONDITION"
   ]
  },
  {
   "cell_type": "code",
   "execution_count": 494,
   "metadata": {},
   "outputs": [],
   "source": [
    "#Setting Up Optimization\n",
    "stormwater_model = Model(HiGHS.Optimizer) #initialize model object\n",
    "\n",
    "#create variables: does each plant divert stormwater  to new plant or allow a CSO\n",
    "@variable(stormwater_model, C[1:14], Bin) #are we over capacity?\n",
    "@variable(stormwater_model, 0<= Q[1:14] <= 100000) #how much water will go to the new plant\n",
    "@variable(stormwater_model, O[1:14] >= 0) #how much will CSO\n",
    "@variable(stormwater_model, W[1:14], Bin) #do we build a new plant?\n",
    "\n",
    "#create objective function\n",
    "@objective(stormwater_model, Min, sum(W_coef .* W) + sum(treatment_cost .* Q) + sum(CSO_cost .* O))\n",
    "\n",
    "#constraints\n",
    "for i in 1:14\n",
    "    @constraint(stormwater_model, !C[i] => {storm_vol[i] + sanitary_demand[i] <= design_capacity[i]})\n",
    "    @constraint(stormwater_model, !W[i] => {Q[i] == 0})\n",
    "    @constraint(stormwater_model, Q[i] + O[i] == C[i]*(storm_vol[i] + sanitary_demand[i] - design_capacity[i]))\n",
    "end"
   ]
  },
  {
   "cell_type": "code",
   "execution_count": 515,
   "metadata": {},
   "outputs": [],
   "source": [
    "#optimize\n",
    "optimize!(stormwater_model)\n",
    "@show value.(C)\n",
    "@show value.(W)\n",
    "@show value.(Q)\n",
    "@show value.(O)\n",
    "@show objective_value(stormwater_model);"
   ]
  },
  {
   "cell_type": "code",
   "execution_count": 516,
   "metadata": {},
   "outputs": [],
   "source": [
    "W = value.(W)\n",
    "Q = value.(Q)\n",
    "O = value.(O)\n",
    "C = value.(C)\n",
    "\n",
    "# Calculate the contribution to the objective function for each plant (index)\n",
    "cost_per_plant = []\n",
    "for i in 1:14\n",
    "    contrib = (W_coef[i] * W[i])  + (treatment_cost * Q[i]) + (CSO_cost * O[i])\n",
    "    push!(cost_per_plant, contrib)\n",
    "end\n",
    "    \n",
    "storm_vol = vec(storm_vol)\n",
    "plant_name = vec(facilities)\n",
    "design_cap = vec(design_capacity)\n",
    "sanitary_demand = vec(sanitary_demand)\n",
    "table = DataFrame(Plant_Name = plant_name, Design_Capacity=design_cap, Sanitary_Demand=sanitary_demand, Storm_Vol=storm_vol, Over_Capacity=Bool.(C), Build_New=Bool.(W), Diverted_Flow=Q, CSO=O, Cost=cost_per_plant)\n",
    "@show table;\n",
    "\n",
    "#marginal cost (cost per gallon CSO avoided)\n",
    "print(\"marginal cost = \", objective_value(stormwater_model)/(sum(Q)*10^6))\n"
   ]
  },
  {
   "cell_type": "code",
   "execution_count": null,
   "metadata": {},
   "outputs": [
    {
     "name": "stdout",
     "output_type": "stream",
     "text": [
      "sum(Q) = 505.1892088569118\n"
     ]
    },
    {
     "data": {
      "text/plain": [
       "-3.668015627314228e7"
      ]
     },
     "metadata": {},
     "output_type": "display_data"
    }
   ],
   "source": [
    "#data analysis:\n",
    "5.1841478559161633e8 - 5.550949418647586e8\n",
    "# 5.380423306303501e8 - 5.550949418647586e8"
   ]
  }
 ],
 "metadata": {
  "kernelspec": {
   "display_name": "Julia 1.10.4",
   "language": "julia",
   "name": "julia-1.10"
  },
  "language_info": {
   "file_extension": ".jl",
   "mimetype": "application/julia",
   "name": "julia",
   "version": "1.10.4"
  }
 },
 "nbformat": 4,
 "nbformat_minor": 2
}
