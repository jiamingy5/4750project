{
 "cells": [
  {
   "cell_type": "markdown",
   "metadata": {},
   "source": [
    "### Researched Quantities\n",
    "\n",
    "- Building this model based on a 10-year rainstorm, which is 5.5 inches in 24 hours.\n",
    "-Here is the link to the sheet with the data about the plants https://1drv.ms/x/c/348b84fad346e9f1/EX-eKXt_eg1HnNybvuDh2aUBIBjV-u4fKmu33ILq_tpZVw?e=BLTTLG \n",
    "- Unit conversions:\n",
    "    - 1 square mile = 640 acres\n",
    "    - 1 square mile = 27,878,400 square feet\n",
    "    - 1 foot = 12 inches\n",
    "    - 1 gallon = 0.13368 cubic feet\n",
    "- According to HomeAdvisor, it costs between $50 to $250 per linear foot to insall a sewer line. I feel like since it's NYC it'll be more expensive but it's so much that they can probably get pretty good pricing so I'm just going to guess $150 per linear foot.\n",
    "    https://www.homeadvisor.com/cost/plumbing/install-a-sewer-main/\n",
    "- according to NYC waterboards, the sewer rate $7.14 / ft^3 = $954479.17 $/ MG in 2024: https://www.nyc.gov/site/nycwaterboard/rates/rates-regulations.page"
   ]
  },
  {
   "cell_type": "code",
   "execution_count": 1,
   "metadata": {},
   "outputs": [
    {
     "name": "stderr",
     "output_type": "stream",
     "text": [
      "\u001b[32m\u001b[1m  Activating\u001b[22m\u001b[39m project at `c:\\Users\\grcra\\OneDrive\\Desktop\\FA24\\BEE4750\\4750project`\n",
      "\u001b[32m\u001b[1m    Updating\u001b[22m\u001b[39m registry at `C:\\Users\\grcra\\.julia\\registries\\General.toml`\n",
      "\u001b[32m\u001b[1m   Resolving\u001b[22m\u001b[39m package versions...\n",
      "\u001b[32m\u001b[1m  No Changes\u001b[22m\u001b[39m to `C:\\Users\\grcra\\OneDrive\\Desktop\\FA24\\BEE4750\\4750project\\Project.toml`\n",
      "\u001b[32m\u001b[1m  No Changes\u001b[22m\u001b[39m to `C:\\Users\\grcra\\OneDrive\\Desktop\\FA24\\BEE4750\\4750project\\Manifest.toml`\n"
     ]
    }
   ],
   "source": [
    "import Pkg\n",
    "Pkg.activate(@__DIR__)\n",
    "Pkg.instantiate()\n",
    "\n",
    "using JuMP\n",
    "using HiGHS\n",
    "using DataFrames\n",
    "using GraphRecipes\n",
    "using Plots\n",
    "using Measures\n",
    "using MarkdownTables\n",
    "Pkg.add(\"XLSX\")"
   ]
  },
  {
   "cell_type": "code",
   "execution_count": 333,
   "metadata": {},
   "outputs": [],
   "source": [
    "#deriving objective function\n",
    "import XLSX\n",
    "data = XLSX.readxlsx(\"WWTP_data.xlsx\")\n",
    "\n",
    "facilities = data[\"Sheet1!A2:A15\"]\n",
    "design_capacity = data[\"Sheet1!B2:B15\"]\n",
    "population_served = data[\"Sheet1!C2:C15\"]\n",
    "sanitary_demand = 80*(10^-6)*population_served #MGD = (gal/(day* person)) * people * 10^-6 MGD/(gal/d)\n",
    "\n",
    "\n",
    "cost_per_mile = 150*5280 #$/ft * ft/mile\n",
    "distance = data[\"Sheet1!E2:E15\"]\n",
    "W_coef = distance*cost_per_mile\n",
    "\n",
    "#rainfall amoutns to input into model:\n",
    "\n",
    "# storm_height = 5.5/12 #feet / day for 10 year storm\n",
    "# storm_height = .85/12 #feet / day for ALL ABOVE capacity\n",
    "# storm_height = 0.06/12 #feet / day example for ALL BELOW capacity \n",
    "storm_height = 0.3/12 #feet / day for most but not all over\n",
    "\n",
    "drainage_area = data[\"Sheet1!D2:D15\"] #acres = (miles^2)/640\n",
    "storm_vol = (storm_height * drainage_area)/3.06888 #MGD = ((in/day)*acre)/(3.06888 acre foot / Mgal)\n",
    "treatment_cost = 954_479.17 #dollars / MGD\n",
    "CSO_cost = 1_090_000; #dollars/Mgal (I've been playing around with this number)"
   ]
  },
  {
   "cell_type": "code",
   "execution_count": 334,
   "metadata": {},
   "outputs": [],
   "source": [
    "#Setting Up Optimization\n",
    "stormwater_model = Model(HiGHS.Optimizer) #initialize model object\n",
    "\n",
    "#create variables: does each plant divert stormwater  to new plant or allow a CSO\n",
    "@variable(stormwater_model, C[1:14], Bin) #are we over capacity?\n",
    "@variable(stormwater_model, 0<= Q[1:14] <= 100000) #how much water will go to the new plant\n",
    "@variable(stormwater_model, O[1:14] >= 0) #how much will CSO\n",
    "@variable(stormwater_model, W[1:14], Bin) #do we build a new plant?\n",
    "\n",
    "#create objective function\n",
    "@objective(stormwater_model, Min, sum(W_coef .* W) + sum(treatment_cost .* Q) + sum(CSO_cost .* O))\n",
    "\n",
    "#constraints\n",
    "for i in 1:14\n",
    "    @constraint(stormwater_model, !C[i] => {storm_vol[i] + sanitary_demand[i] <= design_capacity[i]})\n",
    "    @constraint(stormwater_model, !W[i] => {Q[i] == 0})\n",
    "    @constraint(stormwater_model, Q[i] + O[i] == C[i]*(storm_vol[i] + sanitary_demand[i] - design_capacity[i]))\n",
    "end"
   ]
  },
  {
   "cell_type": "code",
   "execution_count": 335,
   "metadata": {},
   "outputs": [
    {
     "name": "stdout",
     "output_type": "stream",
     "text": [
      "Running HiGHS 1.8.1 (git hash: 4a7f24ac6): Copyright (c) 2024 HiGHS under MIT licence terms\n",
      "Coefficient ranges:\n",
      "  Matrix [1e+00, 1e+05]\n",
      "  Cost   [1e+06, 1e+07]\n",
      "  Bound  [1e+00, 1e+05]\n",
      "  RHS    [9e+00, 2e+02]\n",
      "Presolving model\n",
      "16 rows, 24 cols, 32 nonzeros  0s\n",
      "0 rows, 0 cols, 0 nonzeros  0s\n",
      "Presolve: Optimal\n",
      "\n",
      "Src: B => Branching; C => Central rounding; F => Feasibility pump; H => Heuristic; L => Sub-MIP;\n",
      "     P => Empty MIP; R => Randomized rounding; S => Solve LP; T => Evaluate node; U => Unbounded;\n",
      "     z => Trivial zero; l => Trivial lower; u => Trivial upper; p => Trivial point\n",
      "\n",
      "        Nodes      |    B&B Tree     |            Objective Bounds              |  Dynamic Constraints |       Work      \n",
      "Src  Proc. InQueue |  Leaves   Expl. | BestBound       BestSol              Gap |   Cuts   InLp Confl. | LpIters     Time\n",
      "\n",
      "         0       0         0   0.00%   547578095.4461  547578095.4461     0.00%        0      0      0         0     0.0s\n",
      "\n",
      "Solving report\n",
      "  Status            Optimal\n",
      "  Primal bound      547578095.446\n",
      "  Dual bound        547578095.446\n",
      "  Gap               0% (tolerance: 0.01%)\n",
      "  P-D integral      0\n",
      "  Solution status   feasible\n",
      "                    547578095.446 (objective)\n",
      "                    0 (bound viol.)\n",
      "                    0 (int. viol.)\n",
      "                    0 (row viol.)\n",
      "  Timing            0.00 (total)\n",
      "                    0.00 (presolve)\n",
      "                    0.00 (solve)\n",
      "                    0.00 (postsolve)\n",
      "  Max sub-MIP depth 0\n",
      "  Nodes             0\n",
      "  Repair LPs        0 (0 feasible; 0 iterations)\n",
      "  LP iterations     0 (total)\n",
      "                    0 (strong br.)\n",
      "                    0 (separation)\n",
      "                    0 (heuristics)\n",
      "value.(C) = [0.0, 1.0, 1.0, 0.0, 1.0, 0.0, 0.0, 1.0, 1.0, 1.0, 0.0, 1.0, 1.0, 0.0]\n",
      "value.(W) = [0.0, 0.0, 1.0, 0.0, 1.0, 0.0, 0.0, 1.0, 0.0, 1.0, 0.0, 1.0, 0.0, 0.0]\n",
      "value.(Q) = [0.0, 0.0, 60.60922381794006, 0.0, 164.45699049138443, 0.0, 0.0, 67.50234748416361, 0.0, 46.11063377284219, 0.0, 90.21148381324781, 0.0, 0.0]\n",
      "value.(O) = [0.0, 41.71435396991734, 0.0, 0.0, 0.0, 0.0, 0.0, 0.0, 13.225576734704518, 0.0, 0.0, 0.0, 34.584175507416376, 0.0]\n",
      "objective_value(stormwater_model) = 5.475780954460776e8\n"
     ]
    }
   ],
   "source": [
    "#optimize\n",
    "optimize!(stormwater_model)\n",
    "@show value.(C)\n",
    "@show value.(W)\n",
    "@show value.(Q)\n",
    "@show value.(O)\n",
    "@show objective_value(stormwater_model);"
   ]
  },
  {
   "cell_type": "code",
   "execution_count": 336,
   "metadata": {},
   "outputs": [
    {
     "name": "stdout",
     "output_type": "stream",
     "text": [
      "table = 14×9 DataFrame\n",
      " Row │ Plant_Name           Design_Capacity  Sanitary_Demand  Storm_Vol  Over_Capacity  Build_New  Diverted_Flow  CSO      Cost\n",
      "     │ Any                  Any              Float64          Float64    Bool           Bool       Float64        Float64  Any\n",
      "─────┼───────────────────────────────────────────────────────────────────────────────────────────────────────────────────────────────\n",
      "   1 │ 26th Ward WRRF       85                      22.6742     48.1202          false      false         0.0      0.0     0.0\n",
      "   2 │ Bowery Bay WRRF      150                     67.8662    123.848            true      false         0.0     41.7144  4.54686e7\n",
      "   3 │ Coney Island WRRF    110                     47.7061    122.903            true       true        60.6092   0.0     6.57702e7\n",
      "   4 │ Hunts Point WRRF     200                     54.7655    135.75            false      false         0.0      0.0     0.0\n",
      "   5 │ Jamaica WRRF         100                     58.2498    206.207            true       true       164.457    0.0     1.67267e8\n",
      "   6 │ Newtown Creek WRRF   310                     85.441     127.538           false      false         0.0      0.0     0.0\n",
      "   7 │ North River WRRF     170                     47.1018     49.1222          false      false         0.0      0.0     0.0\n",
      "   8 │ Oakwood Beach WRRF   39.9                    19.5934     87.8089           true       true        67.5023   0.0     7.33396e7\n",
      "   9 │ Rockaway WRRF        45                       7.23792    50.9877           true      false         0.0     13.2256  1.44159e7\n",
      "  10 │ Owls Head WRRF       120                     60.6406    105.47             true       true        46.1106   0.0     4.7536e7\n",
      "  11 │ Wards Island WRRF    275                     84.9246     98.2117          false      false         0.0      0.0     0.0\n",
      "  12 │ Tallman Island WRRF  80                      32.865     137.347            true       true        90.2115   0.0     9.60842e7\n",
      "  13 │ Port Richmond WRRF   60                      15.8502     78.7339           true      false         0.0     34.5842  3.76968e7\n",
      "  14 │ Red Hook WWRF        60                      15.364      26.0681          false      false         0.0      0.0     0.0\n"
     ]
    }
   ],
   "source": [
    "W = value.(W)\n",
    "Q = value.(Q)\n",
    "O = value.(O)\n",
    "C = value.(C)\n",
    "\n",
    "# Calculate the contribution to the objective function for each plant (index)\n",
    "cost_per_plant = []\n",
    "for i in 1:14\n",
    "    contrib = (W_coef[i] * W[i])  + (treatment_cost * Q[i]) + (CSO_cost * O[i])\n",
    "    push!(cost_per_plant, contrib)\n",
    "end\n",
    "    \n",
    "storm_vol = vec(storm_vol)\n",
    "plant_name = vec(facilities)\n",
    "design_cap = vec(design_capacity)\n",
    "sanitary_demand = vec(sanitary_demand)\n",
    "table = DataFrame(Plant_Name = plant_name, Design_Capacity=design_cap, Sanitary_Demand=sanitary_demand, Storm_Vol=storm_vol, Over_Capacity=Bool.(C), Build_New=Bool.(W), Diverted_Flow=Q, CSO=O, Cost=cost_per_plant)\n",
    "@show table;\n"
   ]
  }
 ],
 "metadata": {
  "kernelspec": {
   "display_name": "Julia 1.10.4",
   "language": "julia",
   "name": "julia-1.10"
  },
  "language_info": {
   "file_extension": ".jl",
   "mimetype": "application/julia",
   "name": "julia",
   "version": "1.10.4"
  }
 },
 "nbformat": 4,
 "nbformat_minor": 2
}
