{
 "cells": [
  {
   "cell_type": "markdown",
   "metadata": {},
   "source": [
    "### Researched Quantities\n",
    "\n",
    "- Building this model based on a 10-year rainstorm, which is 5.5 inches in 24 hours.\n",
    "-Here is the link to the sheet with the data about the plants https://1drv.ms/x/c/348b84fad346e9f1/EX-eKXt_eg1HnNybvuDh2aUBIBjV-u4fKmu33ILq_tpZVw?e=BLTTLG \n",
    "- Unit conversions:\n",
    "    - 1 square mile = 640 acres\n",
    "    - 1 square mile = 27,878,400 square feet\n",
    "    - 1 foot = 12 inches\n",
    "    - 1 gallon = 0.13368 cubic feet\n",
    "- According to HomeAdvisor, it costs between $50 to $250 per linear foot to insall a sewer line. I feel like since it's NYC it'll be more expensive but it's so much that they can probably get pretty good pricing so I'm just going to guess $150 per linear foot.\n",
    "    https://www.homeadvisor.com/cost/plumbing/install-a-sewer-main/\n",
    "- according to NYC waterboards, the sewer rate $7.14 / ft^3 = $954479.17 $/ MG in 2024: https://www.nyc.gov/site/nycwaterboard/rates/rates-regulations.page"
   ]
  },
  {
   "cell_type": "code",
   "execution_count": 24,
   "metadata": {},
   "outputs": [
    {
     "name": "stderr",
     "output_type": "stream",
     "text": [
      "\u001b[32m\u001b[1m  Activating\u001b[22m\u001b[39m project at `c:\\Users\\grcra\\OneDrive\\Desktop\\FA24\\BEE4750\\4750project`\n",
      "\u001b[32m\u001b[1m   Installed\u001b[22m\u001b[39m ZipFile ──────── v0.10.1\n",
      "\u001b[32m\u001b[1m   Installed\u001b[22m\u001b[39m InputBuffers ─── v1.0.0\n",
      "\u001b[32m\u001b[1m   Installed\u001b[22m\u001b[39m CodecInflate64 ─ v0.1.3\n",
      "\u001b[32m\u001b[1m   Installed\u001b[22m\u001b[39m EzXML ────────── v1.2.0\n",
      "\u001b[32m\u001b[1m   Installed\u001b[22m\u001b[39m ZipArchives ──── v2.4.0\n",
      "\u001b[32m\u001b[1m   Installed\u001b[22m\u001b[39m XLSX ─────────── v0.10.4\n",
      "\u001b[32m\u001b[1mPrecompiling\u001b[22m\u001b[39m project...\n",
      "\u001b[32m  ✓ \u001b[39m\u001b[90mCodecInflate64\u001b[39m\n",
      "\u001b[32m  ✓ \u001b[39m\u001b[90mInputBuffers\u001b[39m\n",
      "\u001b[32m  ✓ \u001b[39m\u001b[90mZipFile\u001b[39m\n",
      "\u001b[32m  ✓ \u001b[39m\u001b[90mEzXML\u001b[39m\n",
      "\u001b[32m  ✓ \u001b[39m\u001b[90mZipArchives\u001b[39m\n",
      "\u001b[32m  ✓ \u001b[39mXLSX\n",
      "  6 dependencies successfully precompiled in 52 seconds. 233 already precompiled.\n",
      "\u001b[32m\u001b[1m    Updating\u001b[22m\u001b[39m registry at `C:\\Users\\grcra\\.julia\\registries\\General.toml`\n",
      "\u001b[32m\u001b[1m   Resolving\u001b[22m\u001b[39m package versions...\n",
      "\u001b[32m\u001b[1m  No Changes\u001b[22m\u001b[39m to `C:\\Users\\grcra\\OneDrive\\Desktop\\FA24\\BEE4750\\4750project\\Project.toml`\n",
      "\u001b[32m\u001b[1m  No Changes\u001b[22m\u001b[39m to `C:\\Users\\grcra\\OneDrive\\Desktop\\FA24\\BEE4750\\4750project\\Manifest.toml`\n"
     ]
    }
   ],
   "source": [
    "import Pkg\n",
    "Pkg.activate(@__DIR__)\n",
    "Pkg.instantiate()\n",
    "\n",
    "using JuMP\n",
    "using HiGHS\n",
    "using DataFrames\n",
    "using GraphRecipes\n",
    "using Plots\n",
    "using Measures\n",
    "using MarkdownTables\n",
    "Pkg.add(\"XLSX\")"
   ]
  },
  {
   "cell_type": "code",
   "execution_count": 337,
   "metadata": {},
   "outputs": [],
   "source": [
    "#deriving objective function\n",
    "import XLSX\n",
    "data = XLSX.readxlsx(\"WWTP_data.xlsx\")\n",
    "\n",
    "facilities = data[\"Sheet1!A2:A15\"]\n",
    "design_capacity = data[\"Sheet1!B2:B15\"]\n",
    "population_served = data[\"Sheet1!C2:C15\"]\n",
    "sanitary_demand = 80*(10^-6)*population_served #MGD = (gal/(day* person)) * people * 10^-6 MGD/(gal/d)\n",
    "\n",
    "\n",
    "cost_per_mile = 150*5280 #$/ft * ft/mile\n",
    "distance = data[\"Sheet1!E2:E15\"]\n",
    "W_coef = distance*cost_per_mile\n",
    "\n",
    "# storm_height = 5.5/12 #feet / day for 10 year storm\n",
    "storm_height = 0.5/12 #feet / day example for below capacity (I played with this number a bit)\n",
    "\n",
    "drainage_area = data[\"Sheet1!D2:D15\"] #acres = (miles^2)/640\n",
    "storm_vol = (storm_height * drainage_area)/3.06888 #MGD = ((in/day)*acre)/(3.06888 acre foot / Mgal)\n",
    "treatment_cost = 954479.17 #dollars / MGD\n",
    "CSO_cost = 954490; #dollars/Mgal (I've been playing around with this number)"
   ]
  },
  {
   "cell_type": "code",
   "execution_count": 74,
   "metadata": {},
   "outputs": [],
   "source": [
    "#OLD (wanted to keep it here in case I messed things up) #Setting Up Optimization\n",
    "# stormwater_model = Model(HiGHS.Optimizer) #initialize model object\n",
    "\n",
    "# #create variables: amount of wastewater diverted to new plant\n",
    "# @variable(stormwater_model, W[1:14], Bin) #will we divert water to the new plant?\n",
    "# @variable(stormwater_model, Q[1:14] >= 0) #how much water will go to the new plant\n",
    "# @variable(stormwater_model, O[1:14], Bin) #will we get an overflow in a 10-year storm\n",
    "\n",
    "# #create objective function\n",
    "# @objective(stormwater_model, Min, sum(W_coef .* W) + sum(treatment_cost .* Q) + sum(CSO_cost .* O))\n",
    "\n",
    "# #constraints\n",
    "# for i in 1:14\n",
    "#     @constraint(stormwater_model, O[i] => {storm_vol[i] .+ sanitary_demand[i] <= design_capacity[i]})\n",
    "# end"
   ]
  },
  {
   "cell_type": "code",
   "execution_count": null,
   "metadata": {},
   "outputs": [],
   "source": [
    "#Setting Up Optimization\n",
    "stormwater_model = Model(HiGHS.Optimizer) #initialize model object\n",
    "\n",
    "#create variables: does each plant divert stormwater  to new plant or allow a CSO\n",
    "@variable(stormwater_model, W[1:14], Bin) #are we over capacity?\n",
    "@variable(stormwater_model, Q[1:14] >= 0) #how much water will go to the new plant\n",
    "@variable(stormwater_model, O[1:14] >= 0) #how much will CSO\n",
    "\n",
    "#create objective function\n",
    "@objective(stormwater_model, Min, sum(W_coef .* W) + sum(treatment_cost .* Q) + sum(CSO_cost .* O))\n",
    "\n",
    "#constraints\n",
    "for i in 1:14\n",
    "    @constraint(stormwater_model, !W[i] => {storm_vol[i] + sanitary_demand[i] <= design_capacity[i]})\n",
    "    @constraint(stormwater_model, Q[i] + O[i] == W[i]*(storm_vol[i] + sanitary_demand[i] - design_capacity[i]))\n",
    "end"
   ]
  },
  {
   "cell_type": "code",
   "execution_count": null,
   "metadata": {},
   "outputs": [
    {
     "name": "stdout",
     "output_type": "stream",
     "text": [
      "Coefficient ranges:\n",
      "  Matrix [1e+00, 3e+02]\n",
      "  Cost   [1e+06, 1e+07]\n",
      "  Bound  [1e+00, 1e+00]\n",
      "  RHS    [1e+00, 3e+02]\n",
      "Presolving model\n",
      "10 rows, 10 cols, 10 nonzeros  0s\n",
      "0 rows, 0 cols, 0 nonzeros  0s\n",
      "Presolve: Optimal\n",
      "\n",
      "Src: B => Branching; C => Central rounding; F => Feasibility pump; H => Heuristic; L => Sub-MIP;\n",
      "     P => Empty MIP; R => Randomized rounding; S => Solve LP; T => Evaluate node; U => Unbounded;\n",
      "     z => Trivial zero; l => Trivial lower; u => Trivial upper; p => Trivial point\n",
      "\n",
      "        Nodes      |    B&B Tree     |            Objective Bounds              |  Dynamic Constraints |       Work      \n",
      "Src  Proc. InQueue |  Leaves   Expl. | BestBound       BestSol              Gap |   Cuts   InLp Confl. | LpIters     Time\n",
      "\n",
      "         0       0         0   0.00%   1251538402.101  1251538402.101     0.00%        0      0      0         0     0.1s\n",
      "\n",
      "Solving report\n",
      "  Status            Optimal\n",
      "  Primal bound      1251538402.1\n",
      "  Dual bound        1251538402.1\n",
      "  Gap               0% (tolerance: 0.01%)\n",
      "  P-D integral      0\n",
      "  Solution status   feasible\n",
      "                    1251538402.1 (objective)\n",
      "                    0 (bound viol.)\n",
      "                    0 (int. viol.)\n",
      "                    0 (row viol.)\n",
      "  Timing            0.06 (total)\n",
      "                    0.00 (presolve)\n",
      "                    0.00 (solve)\n",
      "                    0.00 (postsolve)\n",
      "  Max sub-MIP depth 0\n",
      "  Nodes             0\n",
      "  Repair LPs        0 (0 feasible; 0 iterations)\n",
      "  LP iterations     0 (total)\n",
      "                    0 (strong br.)\n",
      "                    0 (separation)\n",
      "                    0 (heuristics)\n",
      "value.(W) = [1.0, 1.0, 1.0, 1.0, 1.0, 0.0, 0.0, 1.0, 1.0, 1.0, 0.0, 1.0, 1.0, 0.0]\n",
      "value.(Q) = [17.874508501863872, 124.27976328319556, 142.54465302990013, 81.01527018030464, 301.92842415230746, 0.0, 0.0, 126.04161914027264, 47.217347891174185, 116.4240162880703, 0.0, 181.77583302207972, 87.07346584569399, 0.0]\n",
      "value.(O) = [0.0, 0.0, 0.0, 0.0, 0.0, 0.0, 0.0, 0.0, 0.0, 0.0, 0.0, 0.0, 0.0, 0.0]\n",
      "value.(drainage_area) = [5907; 15203; 15087; 16664; 25313; 15656; 6030; 10779; 6259; 12947; 12056; 16860; 9665; 3200;;]\n",
      "objective_value(stormwater_model) = 1.2515384021009314e9\n"
     ]
    }
   ],
   "source": [
    "#optimize\n",
    "optimize!(stormwater_model)\n",
    "@show value.(W)\n",
    "@show value.(Q)\n",
    "@show value.(O)\n",
    "# @show value.(storm_vol)\n",
    "# @show value.(design_capacity)\n",
    "@show objective_value(stormwater_model);"
   ]
  },
  {
   "cell_type": "code",
   "execution_count": 344,
   "metadata": {},
   "outputs": [
    {
     "name": "stdout",
     "output_type": "stream",
     "text": [
      "table = 14×8 DataFrame\n",
      " Row │ Plant_Name           Design_Capacity  Sanitary_Demand  Storm_Vol  Over_Capacity  Diverted_Flow  CSO      Cost\n",
      "     │ Any                  Any              Float64          Float64    Bool           Float64        Float64  Any\n",
      "─────┼────────────────────────────────────────────────────────────────────────────────────────────────────────────────────\n",
      "   1 │ 26th Ward WRRF       85                      22.6742     80.2003           true        17.8745      0.0  2.51788e7\n",
      "   2 │ Bowery Bay WRRF      150                     67.8662    206.414            true       124.28        0.0  1.26186e8\n",
      "   3 │ Coney Island WRRF    110                     47.7061    204.839            true       142.545       0.0  1.43976e8\n",
      "   4 │ Hunts Point WRRF     200                     54.7655    226.25             true        81.0153      0.0  8.60394e7\n",
      "   5 │ Jamaica WRRF         100                     58.2498    343.679            true       301.928       0.0  2.9848e8\n",
      "   6 │ Newtown Creek WRRF   310                     85.441     212.564           false         0.0         0.0  0.0\n",
      "   7 │ North River WRRF     170                     47.1018     81.8703          false         0.0         0.0  0.0\n",
      "   8 │ Oakwood Beach WRRF   39.9                    19.5934    146.348            true       126.042       0.0  1.29214e8\n",
      "   9 │ Rockaway WRRF        45                       7.23792    84.9794           true        47.2173      0.0  5.6354e7\n",
      "  10 │ Owls Head WRRF       120                     60.6406    175.783            true       116.424       0.0  1.14649e8\n",
      "  11 │ Wards Island WRRF    275                     84.9246    163.686           false         0.0         0.0  0.0\n",
      "  12 │ Tallman Island WRRF  80                      32.865     228.911            true       181.776       0.0  1.8348e8\n",
      "  13 │ Port Richmond WRRF   60                      15.8502    131.223            true        87.0735      0.0  8.79806e7\n",
      "  14 │ Red Hook WWRF        60                      15.364      43.4469          false         0.0         0.0  0.0\n"
     ]
    }
   ],
   "source": [
    "W = value.(W)\n",
    "Q = value.(Q)\n",
    "O = value.(O)\n",
    "\n",
    "# Calculate the contribution to the objective function for each plant (index)\n",
    "cost_per_plant = []\n",
    "for i in 1:14\n",
    "    contrib = W_coef[i] * W[i] + treatment_cost * Q[i] + CSO_cost * O[i]\n",
    "    push!(cost_per_plant, contrib)\n",
    "end\n",
    "    \n",
    "storm_vol = vec(storm_vol)\n",
    "plant_name = vec(facilities)\n",
    "design_cap = vec(design_capacity)\n",
    "sanitary_demand = vec(sanitary_demand)\n",
    "table = DataFrame(Plant_Name = plant_name, Design_Capacity=design_cap, Sanitary_Demand=sanitary_demand, Storm_Vol=storm_vol, Over_Capacity=Bool.(W), Diverted_Flow=Q, CSO=O, Cost=cost_per_plant)\n",
    "@show table;\n"
   ]
  }
 ],
 "metadata": {
  "kernelspec": {
   "display_name": "Julia 1.10.4",
   "language": "julia",
   "name": "julia-1.10"
  },
  "language_info": {
   "file_extension": ".jl",
   "mimetype": "application/julia",
   "name": "julia",
   "version": "1.10.4"
  }
 },
 "nbformat": 4,
 "nbformat_minor": 2
}
